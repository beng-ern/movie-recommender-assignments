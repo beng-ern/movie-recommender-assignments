{
 "cells": [
  {
   "cell_type": "markdown",
   "metadata": {},
   "source": [
    "# Import libraries"
   ]
  },
  {
   "cell_type": "code",
   "execution_count": 1,
   "metadata": {},
   "outputs": [],
   "source": [
    "import numpy as np\n",
    "import pandas as pd\n",
    "from math import sqrt\n",
    "import random\n",
    "import seaborn as sns\n",
    "# import warnings\n",
    "# warnings.filterwarnings('ignore')"
   ]
  },
  {
   "cell_type": "code",
   "execution_count": 2,
   "metadata": {},
   "outputs": [],
   "source": [
    "%matplotlib inline\n",
    "\n",
    "# Load API\n",
    "import matplotlib.pyplot as plt\n",
    "import tensorflow as tf\n",
    "import keras\n",
    "import keras.backend as K\n",
    "from keras.models import Model, Sequential\n",
    "from keras.layers import Input, Dense, Dropout, BatchNormalization\n",
    "from keras.optimizers import RMSprop, Adam"
   ]
  },
  {
   "cell_type": "markdown",
   "metadata": {},
   "source": [
    "# Loading and Visualizing the dataset"
   ]
  },
  {
   "cell_type": "markdown",
   "metadata": {},
   "source": [
    "### File 'u.data'"
   ]
  },
  {
   "cell_type": "code",
   "execution_count": 3,
   "metadata": {},
   "outputs": [],
   "source": [
    "r_cols = ['user_id', 'item_id', 'rating', 'timestamp']\n",
    "df_1 = pd.read_csv('u.data',  sep='\\t', names=r_cols, encoding='latin-1')\n",
    "\n",
    "# creating a new copy so that any changes to original data 'u.item' will not affect the train and test set below\n",
    "df_ratings = df_1.copy()\n",
    "\n",
    "df_ratings[['user_id', 'item_id', 'rating']] = df_ratings[['user_id', 'item_id', 'rating']].astype(dtype = 'int64')\n",
    "\n",
    "# sort by timestamp for splitting into training and testing data set later\n",
    "df_ratings = df_ratings.sort_values(by = 'timestamp')"
   ]
  },
  {
   "cell_type": "code",
   "execution_count": 6,
   "metadata": {},
   "outputs": [
    {
     "name": "stdout",
     "output_type": "stream",
     "text": [
      "Number of movies:  1682\n",
      "Number of users:  943\n"
     ]
    }
   ],
   "source": [
    "num_movies1 = df_ratings['item_id'].nunique()\n",
    "num_users1 = df_ratings['user_id'].nunique()\n",
    "\n",
    "print(\"Number of movies: \", num_movies1)\n",
    "print(\"Number of users: \", num_users1)"
   ]
  },
  {
   "cell_type": "code",
   "execution_count": 4,
   "metadata": {},
   "outputs": [
    {
     "name": "stdout",
     "output_type": "stream",
     "text": [
      "Minimum number of ratings by user:  20\n",
      "Maximum number of ratings by user:  737\n"
     ]
    }
   ],
   "source": [
    "print(\"Minimum number of ratings by user: \", min(df_1['user_id'].value_counts()))\n",
    "print(\"Maximum number of ratings by user: \", max(df_1['user_id'].value_counts()))"
   ]
  },
  {
   "cell_type": "code",
   "execution_count": 77,
   "metadata": {},
   "outputs": [
    {
     "data": {
      "text/plain": [
       "<matplotlib.axes._subplots.AxesSubplot at 0x21279e2c4f0>"
      ]
     },
     "execution_count": 77,
     "metadata": {},
     "output_type": "execute_result"
    },
    {
     "data": {
      "image/png": "[encoded data removed]",
      "text/plain": [
       "<Figure size 432x288 with 1 Axes>"
      ]
     },
     "metadata": {
      "needs_background": "light"
     },
     "output_type": "display_data"
    }
   ],
   "source": [
    "sns.countplot(data=df_ratings, x='rating')"
   ]
  },
  {
   "cell_type": "code",
   "execution_count": 73,
   "metadata": {},
   "outputs": [
    {
     "data": {
      "text/plain": [
       "50     583\n",
       "258    509\n",
       "100    508\n",
       "181    507\n",
       "294    485\n",
       "Name: item_id, dtype: int64"
      ]
     },
     "execution_count": 73,
     "metadata": {},
     "output_type": "execute_result"
    }
   ],
   "source": [
    "df_ratings['item_id'].value_counts().head()"
   ]
  },
  {
   "cell_type": "code",
   "execution_count": 79,
   "metadata": {},
   "outputs": [
    {
     "data": {
      "text/plain": [
       "1648    1\n",
       "1571    1\n",
       "1329    1\n",
       "1457    1\n",
       "1663    1\n",
       "Name: item_id, dtype: int64"
      ]
     },
     "execution_count": 79,
     "metadata": {},
     "output_type": "execute_result"
    }
   ],
   "source": [
    "df_ratings['item_id'].value_counts().tail()"
   ]
  },
  {
   "cell_type": "code",
   "execution_count": 94,
   "metadata": {},
   "outputs": [
    {
     "data": {
      "text/plain": [
       "item_id\n",
       "1       0.479321\n",
       "2       0.138918\n",
       "3       0.095440\n",
       "4       0.221633\n",
       "5       0.091198\n",
       "          ...   \n",
       "1678    0.001060\n",
       "1679    0.001060\n",
       "1680    0.001060\n",
       "1681    0.001060\n",
       "1682    0.001060\n",
       "Length: 1682, dtype: float64"
      ]
     },
     "execution_count": 94,
     "metadata": {},
     "output_type": "execute_result"
    }
   ],
   "source": [
    "pd.pivot_table(data=df_ratings, index='user_id', columns='item_id', values='rating').notnull().mean()"
   ]
  },
  {
   "cell_type": "markdown",
   "metadata": {},
   "source": [
    "### File 'u.item'"
   ]
  },
  {
   "cell_type": "code",
   "execution_count": 7,
   "metadata": {},
   "outputs": [],
   "source": [
    "m_cols = ['item_id', 'movie_title', 'release_date', 'video_release_date', 'URL', 'unknown',\n",
    "          'Action', 'Adventure', 'Animation', 'Childrens', 'Comedy', 'Crime', 'Documentary',\n",
    "          'Drama', 'Fantasy', 'Film-Noir', 'Horror', 'Musical', 'Mystery',\n",
    "          'Romance', 'Sci-Fi', 'Thriller', 'War', 'Western']\n",
    "\n",
    "df_2 = pd.read_csv('u.item',  sep='|', names=m_cols, encoding='latin-1')\n",
    "\n",
    "\n",
    "# creating a new copy so that any changes to original data 'u.item' will not affect the train and test set below\n",
    "df_movieinfo = df_2[['item_id', 'movie_title']].copy()"
   ]
  },
  {
   "cell_type": "markdown",
   "metadata": {},
   "source": [
    "### File 'u.user'"
   ]
  },
  {
   "cell_type": "code",
   "execution_count": 8,
   "metadata": {},
   "outputs": [],
   "source": [
    "u_cols = ['user_id', 'age', 'gender', 'occupation', 'zip code']\n",
    "df_3 = pd.read_csv('u.user',  sep='|', names=u_cols, encoding='latin-1')"
   ]
  },
  {
   "cell_type": "markdown",
   "metadata": {},
   "source": [
    "# Splitting the datasets"
   ]
  },
  {
   "cell_type": "markdown",
   "metadata": {},
   "source": [
    "Split the ratings dataset in such a way that 70% of each user’s rating\n",
    "scores is in the training dataset and 30% is in the testing dataset. Split them in a way that the\n",
    "**most recent ratings** are included in the testing dataset"
   ]
  },
  {
   "cell_type": "code",
   "execution_count": 9,
   "metadata": {},
   "outputs": [
    {
     "name": "stdout",
     "output_type": "stream",
     "text": [
      "Wall time: 8.1 s\n"
     ]
    }
   ],
   "source": [
    "%%time\n",
    "movieTrain = pd.DataFrame(columns = df_ratings.columns.tolist())\n",
    "movieTest = pd.DataFrame(columns = df_ratings.columns.tolist())\n",
    "\n",
    "\n",
    "for i in set(list(df_ratings['user_id'])):\n",
    "    sub_df = df_ratings[df_ratings['user_id'] == i]\n",
    "    len_df = len(sub_df)\n",
    "    movieTrain = movieTrain.append([sub_df.head(round(len_df*0.7))])\n",
    "    movieTest = movieTest.append([sub_df.tail(len_df - round(len_df*0.7))])"
   ]
  },
  {
   "cell_type": "code",
   "execution_count": 10,
   "metadata": {},
   "outputs": [],
   "source": [
    "movieTrain = movieTrain.astype('int64')\n",
    "movieTest = movieTest.astype('int64')"
   ]
  },
  {
   "cell_type": "code",
   "execution_count": 11,
   "metadata": {},
   "outputs": [
    {
     "name": "stdout",
     "output_type": "stream",
     "text": [
      "<class 'pandas.core.frame.DataFrame'>\n",
      "(70003, 4) (29997, 4)\n"
     ]
    }
   ],
   "source": [
    "print(type(movieTrain))\n",
    "print(movieTrain.shape, movieTest.shape)"
   ]
  },
  {
   "cell_type": "markdown",
   "metadata": {},
   "source": [
    "### Create a Training User-Movie Matrix\n",
    "#### Rows are user, columns are movies"
   ]
  },
  {
   "cell_type": "code",
   "execution_count": 12,
   "metadata": {},
   "outputs": [],
   "source": [
    "# Converting dataframe into numpy arrays to be fed into autoencoder later\n",
    "usermovie_matrix_train = np.zeros((num_users1, num_movies1))\n",
    "\n",
    "for (idx, row) in movieTrain.iterrows():\n",
    "    user_id = row[0]\n",
    "    movie_id = row[1]\n",
    "    ratings = row[2]\n",
    "    usermovie_matrix_train[user_id-1, movie_id-1] = ratings"
   ]
  },
  {
   "cell_type": "code",
   "execution_count": 13,
   "metadata": {},
   "outputs": [
    {
     "data": {
      "text/plain": [
       "(943, 1682)"
      ]
     },
     "execution_count": 13,
     "metadata": {},
     "output_type": "execute_result"
    }
   ],
   "source": [
    "usermovie_matrix_train.shape"
   ]
  },
  {
   "cell_type": "markdown",
   "metadata": {},
   "source": [
    "### Create a Testing User-Movie Matrix\n",
    "#### Rows are user, columns are movies"
   ]
  },
  {
   "cell_type": "code",
   "execution_count": 14,
   "metadata": {},
   "outputs": [],
   "source": [
    "# Converting dataframe into numpy arrays to be fed into autoencoder later\n",
    "usermovie_matrix_test = np.zeros((num_users1, num_movies1))\n",
    "\n",
    "for (idx, row) in movieTest.iterrows():\n",
    "    user_id = row[0]\n",
    "    movie_id = row[1]\n",
    "    ratings = row[2]\n",
    "    usermovie_matrix_test[user_id-1, movie_id-1] = ratings"
   ]
  },
  {
   "cell_type": "code",
   "execution_count": 15,
   "metadata": {},
   "outputs": [
    {
     "data": {
      "text/plain": [
       "(943, 1682)"
      ]
     },
     "execution_count": 15,
     "metadata": {},
     "output_type": "execute_result"
    }
   ],
   "source": [
    "usermovie_matrix_test.shape"
   ]
  },
  {
   "cell_type": "markdown",
   "metadata": {},
   "source": [
    "<br>"
   ]
  },
  {
   "cell_type": "markdown",
   "metadata": {},
   "source": [
    "# Question 1 - Simple Autoencoder\n",
    "Build a simple version of the Autoencoder with only one hidden\n",
    "layer in such a way that it reconstructs the inputs of the users’ rating rows in the train set.\n",
    "Then, try to input users’ rating rows in test set and see how much the model reconstruct\n",
    "original inputs correctly. What is the RMSE score obtained by this model?"
   ]
  },
  {
   "cell_type": "code",
   "execution_count": 16,
   "metadata": {},
   "outputs": [],
   "source": [
    "# define hyperparameters\n",
    "encoding_dim = 20\n",
    "batch_size = 64\n",
    "learning_rate = 0.001\n",
    "\n",
    "# stop training the model when the validation loss does not decrease\n",
    "# restore model weights from the epoch with the best value of the monitored metric\n",
    "early_stop = tf.keras.callbacks.EarlyStopping(monitor='val_loss', patience=20, restore_best_weights=True)"
   ]
  },
  {
   "cell_type": "code",
   "execution_count": 17,
   "metadata": {},
   "outputs": [],
   "source": [
    "# build simple autoencoder model\n",
    "\n",
    "# this is our input placeholder\n",
    "input_ratings = Input(shape=(1682,))\n",
    "\n",
    "# encoded representation of the input\n",
    "encoded = Dense(encoding_dim, activation='sigmoid')(input_ratings)\n",
    "\n",
    "# reconstruction of the input\n",
    "decoded = Dense(1682)(encoded)\n",
    "\n",
    "# this model maps an input to its reconstruction\n",
    "autoencoder = Model(input_ratings, decoded)"
   ]
  },
  {
   "cell_type": "code",
   "execution_count": 18,
   "metadata": {},
   "outputs": [
    {
     "name": "stdout",
     "output_type": "stream",
     "text": [
      "Model: \"functional_1\"\n",
      "_________________________________________________________________\n",
      "Layer (type)                 Output Shape              Param #   \n",
      "=================================================================\n",
      "input_1 (InputLayer)         [(None, 1682)]            0         \n",
      "_________________________________________________________________\n",
      "dense (Dense)                (None, 20)                33660     \n",
      "_________________________________________________________________\n",
      "dense_1 (Dense)              (None, 1682)              35322     \n",
      "=================================================================\n",
      "Total params: 68,982\n",
      "Trainable params: 68,982\n",
      "Non-trainable params: 0\n",
      "_________________________________________________________________\n"
     ]
    }
   ],
   "source": [
    "# show model info\n",
    "autoencoder.summary()"
   ]
  },
  {
   "cell_type": "code",
   "execution_count": 19,
   "metadata": {},
   "outputs": [],
   "source": [
    "# create a custom loss function\n",
    "# to consider the output values that correspond to the indices of the non-zero values in the input set\n",
    "\n",
    "def custom_loss_function(y_true, y_pred):\n",
    "    mask = (y_true == 0)\n",
    "    y_pred = tf.where(mask, y_true, y_pred)\n",
    "    mse_masked = K.mean(K.square(y_true - y_pred), axis=-1)\n",
    "    return mse_masked"
   ]
  },
  {
   "cell_type": "code",
   "execution_count": 20,
   "metadata": {},
   "outputs": [],
   "source": [
    "# set train methodology\n",
    "optimizer = Adam(learning_rate=learning_rate)\n",
    "\n",
    "autoencoder.compile(loss=custom_loss_function, optimizer=optimizer, metrics=custom_loss_function)"
   ]
  },
  {
   "cell_type": "code",
   "execution_count": 21,
   "metadata": {},
   "outputs": [
    {
     "data": {
      "text/plain": [
       "<tensorflow.python.keras.callbacks.History at 0x21266fbf610>"
      ]
     },
     "execution_count": 21,
     "metadata": {},
     "output_type": "execute_result"
    }
   ],
   "source": [
    "autoencoder.fit(usermovie_matrix_train, usermovie_matrix_train, batch_size=batch_size, epochs=300,\n",
    "                    verbose=0, validation_data=(usermovie_matrix_test, usermovie_matrix_test), callbacks=early_stop)"
   ]
  },
  {
   "cell_type": "markdown",
   "metadata": {},
   "source": [
    "#### Test the trained model"
   ]
  },
  {
   "cell_type": "code",
   "execution_count": 22,
   "metadata": {},
   "outputs": [],
   "source": [
    "decoded_ratings = autoencoder.predict(usermovie_matrix_test)"
   ]
  },
  {
   "cell_type": "code",
   "execution_count": 23,
   "metadata": {},
   "outputs": [
    {
     "name": "stdout",
     "output_type": "stream",
     "text": [
      "Using Simple Autoencoder: \n",
      "Test loss (RMSE):  1.0932526018851814\n"
     ]
    }
   ],
   "source": [
    "mask_rate = usermovie_matrix_test > 0\n",
    "test_loss = sqrt(np.mean((usermovie_matrix_test[mask_rate] - decoded_ratings[mask_rate])**2))\n",
    "print(\"Using Simple Autoencoder: \")\n",
    "print(\"Test loss (RMSE): \", test_loss)"
   ]
  },
  {
   "cell_type": "markdown",
   "metadata": {},
   "source": [
    "<br>"
   ]
  },
  {
   "cell_type": "markdown",
   "metadata": {},
   "source": [
    "<br>"
   ]
  },
  {
   "cell_type": "markdown",
   "metadata": {},
   "source": [
    "# Question 2 - Stacked Autoencoder\n",
    "Try to expand the previous version of the autoencoder model.\n",
    "You can consider applying other deep learning techniques (Hint: adding more layers,\n",
    "avoiding overfitting technique (Dropout, Batch Normalization, etc.)). Then, try to do the\n",
    "same evaluation as done in Q1. What is the RMSE score obtained by this model?"
   ]
  },
  {
   "cell_type": "code",
   "execution_count": 24,
   "metadata": {},
   "outputs": [],
   "source": [
    "encoding_dim1 = 20\n",
    "encoding_dim2 = 10\n",
    "decoding_dim1 = 20"
   ]
  },
  {
   "cell_type": "code",
   "execution_count": 25,
   "metadata": {},
   "outputs": [],
   "source": [
    "# build stacked autoencoder model\n",
    "\n",
    "# this is our input placeholder\n",
    "input_ratings = Input(shape=(1682,))\n",
    "\n",
    "# 1st encoding layer + batch normalization + drop out\n",
    "encoded1 = Dense(encoding_dim1, activation='sigmoid')(input_ratings)\n",
    "encoded1 = Dropout(0.2)(encoded1)\n",
    "\n",
    "# 2nd encoding layer\n",
    "encoded2 = Dense(encoding_dim2, activation='sigmoid')(encoded1)\n",
    "encoded2 = Dropout(0.2)(encoded2)\n",
    "\n",
    "# 1st decoding layer\n",
    "decoded1 = Dense(decoding_dim1, activation='sigmoid')(encoded2)\n",
    "\n",
    "# 2nd decoding layer\n",
    "decoded2 = Dense(1682)(decoded1)\n",
    "\n",
    "# this model maps an input to its reconstruction\n",
    "autoencoder2 = Model(input_ratings, decoded2)"
   ]
  },
  {
   "cell_type": "code",
   "execution_count": 26,
   "metadata": {},
   "outputs": [
    {
     "name": "stdout",
     "output_type": "stream",
     "text": [
      "Model: \"functional_3\"\n",
      "_________________________________________________________________\n",
      "Layer (type)                 Output Shape              Param #   \n",
      "=================================================================\n",
      "input_2 (InputLayer)         [(None, 1682)]            0         \n",
      "_________________________________________________________________\n",
      "dense_2 (Dense)              (None, 20)                33660     \n",
      "_________________________________________________________________\n",
      "dropout (Dropout)            (None, 20)                0         \n",
      "_________________________________________________________________\n",
      "dense_3 (Dense)              (None, 10)                210       \n",
      "_________________________________________________________________\n",
      "dropout_1 (Dropout)          (None, 10)                0         \n",
      "_________________________________________________________________\n",
      "dense_4 (Dense)              (None, 20)                220       \n",
      "_________________________________________________________________\n",
      "dense_5 (Dense)              (None, 1682)              35322     \n",
      "=================================================================\n",
      "Total params: 69,412\n",
      "Trainable params: 69,412\n",
      "Non-trainable params: 0\n",
      "_________________________________________________________________\n"
     ]
    }
   ],
   "source": [
    "# show model info\n",
    "autoencoder2.summary()"
   ]
  },
  {
   "cell_type": "code",
   "execution_count": 27,
   "metadata": {},
   "outputs": [],
   "source": [
    "# set train methodology\n",
    "optimizer = Adam(learning_rate=learning_rate)\n",
    "\n",
    "autoencoder2.compile(loss=custom_loss_function, optimizer=optimizer, metrics=custom_loss_function)"
   ]
  },
  {
   "cell_type": "code",
   "execution_count": 28,
   "metadata": {},
   "outputs": [
    {
     "data": {
      "text/plain": [
       "<tensorflow.python.keras.callbacks.History at 0x21267411e20>"
      ]
     },
     "execution_count": 28,
     "metadata": {},
     "output_type": "execute_result"
    }
   ],
   "source": [
    "autoencoder2.fit(usermovie_matrix_train, usermovie_matrix_train, batch_size=batch_size, epochs=300,\n",
    "                    verbose=0, validation_data=(usermovie_matrix_test, usermovie_matrix_test), callbacks=early_stop)"
   ]
  },
  {
   "cell_type": "markdown",
   "metadata": {},
   "source": [
    "#### Test the trainined model"
   ]
  },
  {
   "cell_type": "code",
   "execution_count": 29,
   "metadata": {},
   "outputs": [],
   "source": [
    "decoded_ratings2 = autoencoder2.predict(usermovie_matrix_test)"
   ]
  },
  {
   "cell_type": "code",
   "execution_count": 30,
   "metadata": {},
   "outputs": [
    {
     "name": "stdout",
     "output_type": "stream",
     "text": [
      "Using Stacked Autoencoder: \n",
      "Test loss (RMSE):  1.079540010171092\n"
     ]
    }
   ],
   "source": [
    "mask_rate = usermovie_matrix_test > 0\n",
    "test_loss2 = sqrt(np.mean((usermovie_matrix_test[mask_rate] - decoded_ratings2[mask_rate])**2))\n",
    "print(\"Using Stacked Autoencoder: \")\n",
    "print(\"Test loss (RMSE): \", test_loss2)"
   ]
  },
  {
   "cell_type": "markdown",
   "metadata": {},
   "source": [
    "<br>"
   ]
  },
  {
   "cell_type": "markdown",
   "metadata": {},
   "source": [
    "<br>"
   ]
  },
  {
   "cell_type": "markdown",
   "metadata": {},
   "source": [
    "# Question 3 - Build User Profile Vectors (Auxiliary Information)"
   ]
  },
  {
   "cell_type": "markdown",
   "metadata": {},
   "source": [
    "Build user profile vectors as auxiliary information by using ‘u.user’ file by yourself. <br>\n",
    "Show your vector’s definition into a table form. (Hint: Consider\n",
    "changing the categorical variables into one-hot encoding.)"
   ]
  },
  {
   "cell_type": "code",
   "execution_count": 95,
   "metadata": {},
   "outputs": [
    {
     "data": {
      "text/plain": [
       "0"
      ]
     },
     "execution_count": 95,
     "metadata": {},
     "output_type": "execute_result"
    }
   ],
   "source": [
    "# check if u.user file contains all the User ID in u.data file\n",
    "sum(~df_3['user_id'].isin(df_ratings['user_id'].unique()))"
   ]
  },
  {
   "cell_type": "code",
   "execution_count": 32,
   "metadata": {},
   "outputs": [],
   "source": [
    "user_profile = df_3.copy().drop(columns='zip code')"
   ]
  },
  {
   "cell_type": "code",
   "execution_count": 33,
   "metadata": {},
   "outputs": [
    {
     "data": {
      "text/html": [
       "<div>\n",
       "<style scoped>\n",
       "    .dataframe tbody tr th:only-of-type {\n",
       "        vertical-align: middle;\n",
       "    }\n",
       "\n",
       "    .dataframe tbody tr th {\n",
       "        vertical-align: top;\n",
       "    }\n",
       "\n",
       "    .dataframe thead th {\n",
       "        text-align: right;\n",
       "    }\n",
       "</style>\n",
       "<table border=\"1\" class=\"dataframe\">\n",
       "  <thead>\n",
       "    <tr style=\"text-align: right;\">\n",
       "      <th></th>\n",
       "      <th>user_id</th>\n",
       "      <th>age</th>\n",
       "      <th>gender</th>\n",
       "      <th>occupation</th>\n",
       "    </tr>\n",
       "  </thead>\n",
       "  <tbody>\n",
       "    <tr>\n",
       "      <th>0</th>\n",
       "      <td>1</td>\n",
       "      <td>24</td>\n",
       "      <td>M</td>\n",
       "      <td>technician</td>\n",
       "    </tr>\n",
       "    <tr>\n",
       "      <th>1</th>\n",
       "      <td>2</td>\n",
       "      <td>53</td>\n",
       "      <td>F</td>\n",
       "      <td>other</td>\n",
       "    </tr>\n",
       "    <tr>\n",
       "      <th>2</th>\n",
       "      <td>3</td>\n",
       "      <td>23</td>\n",
       "      <td>M</td>\n",
       "      <td>writer</td>\n",
       "    </tr>\n",
       "  </tbody>\n",
       "</table>\n",
       "</div>"
      ],
      "text/plain": [
       "   user_id  age gender  occupation\n",
       "0        1   24      M  technician\n",
       "1        2   53      F       other\n",
       "2        3   23      M      writer"
      ]
     },
     "execution_count": 33,
     "metadata": {},
     "output_type": "execute_result"
    }
   ],
   "source": [
    "user_profile.head(3)"
   ]
  },
  {
   "cell_type": "markdown",
   "metadata": {},
   "source": [
    "#### One-hot encoding for OCCUPATION"
   ]
  },
  {
   "cell_type": "code",
   "execution_count": 34,
   "metadata": {},
   "outputs": [],
   "source": [
    "occupation = user_profile.pop('occupation')\n",
    "\n",
    "for i in occupation.unique():\n",
    "    user_profile[i] = (occupation == i)*1.0"
   ]
  },
  {
   "cell_type": "markdown",
   "metadata": {},
   "source": [
    "#### One-hot encoding for GENDER"
   ]
  },
  {
   "cell_type": "code",
   "execution_count": 35,
   "metadata": {},
   "outputs": [],
   "source": [
    "gender = user_profile.pop('gender')\n",
    "\n",
    "user_profile['male'] = (gender == 'M')*1.0\n",
    "user_profile['female'] = (gender == 'F')*1.0"
   ]
  },
  {
   "cell_type": "markdown",
   "metadata": {},
   "source": [
    "#### Scaling AGE"
   ]
  },
  {
   "cell_type": "code",
   "execution_count": 36,
   "metadata": {},
   "outputs": [],
   "source": [
    "# scale the age from 0 to 5, same as rating scale\n",
    "user_profile['scaled_age'] = user_profile['age'] / 20"
   ]
  },
  {
   "cell_type": "code",
   "execution_count": 37,
   "metadata": {},
   "outputs": [
    {
     "data": {
      "text/plain": [
       "<matplotlib.axes._subplots.AxesSubplot at 0x212672a56a0>"
      ]
     },
     "execution_count": 37,
     "metadata": {},
     "output_type": "execute_result"
    },
    {
     "data": {
      "image/png": "[encoded data removed]",
      "text/plain": [
       "<Figure size 432x288 with 1 Axes>"
      ]
     },
     "metadata": {
      "needs_background": "light"
     },
     "output_type": "display_data"
    }
   ],
   "source": [
    "user_profile['scaled_age'].hist()"
   ]
  },
  {
   "cell_type": "markdown",
   "metadata": {},
   "source": [
    "#### Converting to vector to be concatenated with ratings matrix later"
   ]
  },
  {
   "cell_type": "code",
   "execution_count": 38,
   "metadata": {},
   "outputs": [
    {
     "data": {
      "text/plain": [
       "(943, 24)"
      ]
     },
     "execution_count": 38,
     "metadata": {},
     "output_type": "execute_result"
    }
   ],
   "source": [
    "user_profile = user_profile.sort_values(by='user_id')\n",
    "user_profile_v = user_profile.drop(columns=['user_id', 'scaled_age']).to_numpy()\n",
    "user_profile_v.shape"
   ]
  },
  {
   "cell_type": "code",
   "execution_count": 39,
   "metadata": {},
   "outputs": [
    {
     "data": {
      "text/plain": [
       "(943, 24)"
      ]
     },
     "execution_count": 39,
     "metadata": {},
     "output_type": "execute_result"
    }
   ],
   "source": [
    "user_profile_v2 = user_profile.drop(columns=['user_id', 'age']).to_numpy()\n",
    "user_profile_v2.shape"
   ]
  },
  {
   "cell_type": "markdown",
   "metadata": {},
   "source": [
    "<br>"
   ]
  },
  {
   "cell_type": "markdown",
   "metadata": {},
   "source": [
    "# Question 4 - Combining Auxiliary Information into Autoencoder\n",
    "#### Expand your Deep Autoencoder model to utilize user profile vectors\n",
    "(Hint: Simple concatenation of a user profile vector with a user rating’s row is one of the combination approaches). <br>\n",
    "Then, try to do the same evaluation in Q1. What is the RMSE score obtained by your proposed model?"
   ]
  },
  {
   "cell_type": "markdown",
   "metadata": {},
   "source": [
    "#### User profile vector with NON-scaled age"
   ]
  },
  {
   "cell_type": "code",
   "execution_count": 40,
   "metadata": {},
   "outputs": [
    {
     "data": {
      "text/plain": [
       "(943, 1706)"
      ]
     },
     "execution_count": 40,
     "metadata": {},
     "output_type": "execute_result"
    }
   ],
   "source": [
    "usermovieaux_matrix_train = np.concatenate((usermovie_matrix_train, user_profile_v), axis=1)\n",
    "usermovieaux_matrix_train.shape"
   ]
  },
  {
   "cell_type": "code",
   "execution_count": 41,
   "metadata": {},
   "outputs": [
    {
     "data": {
      "text/plain": [
       "(943, 1706)"
      ]
     },
     "execution_count": 41,
     "metadata": {},
     "output_type": "execute_result"
    }
   ],
   "source": [
    "usermovieaux_matrix_test = np.concatenate((usermovie_matrix_test, user_profile_v), axis=1)\n",
    "usermovieaux_matrix_test.shape"
   ]
  },
  {
   "cell_type": "markdown",
   "metadata": {},
   "source": [
    "#### User profile vector with scaled age"
   ]
  },
  {
   "cell_type": "code",
   "execution_count": 42,
   "metadata": {},
   "outputs": [
    {
     "data": {
      "text/plain": [
       "(943, 1706)"
      ]
     },
     "execution_count": 42,
     "metadata": {},
     "output_type": "execute_result"
    }
   ],
   "source": [
    "usermovieaux_matrix_train_s = np.concatenate((usermovie_matrix_train, user_profile_v2), axis=1)\n",
    "usermovieaux_matrix_train_s.shape"
   ]
  },
  {
   "cell_type": "code",
   "execution_count": 43,
   "metadata": {},
   "outputs": [
    {
     "data": {
      "text/plain": [
       "(943, 1706)"
      ]
     },
     "execution_count": 43,
     "metadata": {},
     "output_type": "execute_result"
    }
   ],
   "source": [
    "usermovieaux_matrix_test_s = np.concatenate((usermovie_matrix_test, user_profile_v2), axis=1)\n",
    "usermovieaux_matrix_test_s.shape"
   ]
  },
  {
   "cell_type": "markdown",
   "metadata": {},
   "source": [
    "#### Using SAME Stacked Autoencoder Layers from Question 2 (with different custom loss function)"
   ]
  },
  {
   "cell_type": "code",
   "execution_count": 44,
   "metadata": {},
   "outputs": [],
   "source": [
    "# create a custom loss function\n",
    "# to consider the output values that correspond to the indices of the non-zero ratings in the input set\n",
    "# to also ignore the predictions of user profile vector\n",
    "\n",
    "def custom_loss_function1(y_true, y_pred):\n",
    "    mask = (y_true == 0)\n",
    "    y_pred = tf.where(mask, y_true, y_pred)\n",
    "    mse_masked = K.mean(K.square(y_true[:, :1682] - y_pred[:, :1682]), axis=-1)\n",
    "    return mse_masked"
   ]
  },
  {
   "cell_type": "code",
   "execution_count": 45,
   "metadata": {},
   "outputs": [],
   "source": [
    "encoding_dim1 = 20\n",
    "encoding_dim2 = 10\n",
    "decoding_dim1 = 20"
   ]
  },
  {
   "cell_type": "code",
   "execution_count": 46,
   "metadata": {},
   "outputs": [],
   "source": [
    "# build stacked autoencoder model\n",
    "\n",
    "# this is our input placeholder\n",
    "input_ratings = Input(shape=(1706,))\n",
    "\n",
    "# 1st encoding layer\n",
    "encoded1 = Dense(encoding_dim1, activation='sigmoid')(input_ratings)\n",
    "encoded1 = Dropout(0.2)(encoded1)\n",
    "\n",
    "# 2nd encoding layer\n",
    "encoded2 = Dense(encoding_dim2, activation='sigmoid')(encoded1)\n",
    "encoded2 = Dropout(0.2)(encoded2)\n",
    "\n",
    "# 1st decoding layer\n",
    "decoded1 = Dense(decoding_dim1, activation='sigmoid')(encoded2)\n",
    "\n",
    "# 2nd decoding layer\n",
    "decoded2 = Dense(1706)(decoded1)\n",
    "\n",
    "# this model maps an input to its reconstruction\n",
    "autoencoder3 = Model(input_ratings, decoded2)"
   ]
  },
  {
   "cell_type": "code",
   "execution_count": 47,
   "metadata": {},
   "outputs": [
    {
     "name": "stdout",
     "output_type": "stream",
     "text": [
      "Model: \"functional_5\"\n",
      "_________________________________________________________________\n",
      "Layer (type)                 Output Shape              Param #   \n",
      "=================================================================\n",
      "input_3 (InputLayer)         [(None, 1706)]            0         \n",
      "_________________________________________________________________\n",
      "dense_6 (Dense)              (None, 20)                34140     \n",
      "_________________________________________________________________\n",
      "dropout_2 (Dropout)          (None, 20)                0         \n",
      "_________________________________________________________________\n",
      "dense_7 (Dense)              (None, 10)                210       \n",
      "_________________________________________________________________\n",
      "dropout_3 (Dropout)          (None, 10)                0         \n",
      "_________________________________________________________________\n",
      "dense_8 (Dense)              (None, 20)                220       \n",
      "_________________________________________________________________\n",
      "dense_9 (Dense)              (None, 1706)              35826     \n",
      "=================================================================\n",
      "Total params: 70,396\n",
      "Trainable params: 70,396\n",
      "Non-trainable params: 0\n",
      "_________________________________________________________________\n"
     ]
    }
   ],
   "source": [
    "# show model info\n",
    "autoencoder3.summary()"
   ]
  },
  {
   "cell_type": "code",
   "execution_count": 48,
   "metadata": {},
   "outputs": [],
   "source": [
    "# set train methodology\n",
    "optimizer = Adam(learning_rate=learning_rate)\n",
    "\n",
    "autoencoder3.compile(loss=custom_loss_function1, optimizer=optimizer, metrics=custom_loss_function1)"
   ]
  },
  {
   "cell_type": "markdown",
   "metadata": {},
   "source": [
    "### Training with non-scaled age"
   ]
  },
  {
   "cell_type": "code",
   "execution_count": 49,
   "metadata": {},
   "outputs": [
    {
     "data": {
      "text/plain": [
       "<tensorflow.python.keras.callbacks.History at 0x21270823880>"
      ]
     },
     "execution_count": 49,
     "metadata": {},
     "output_type": "execute_result"
    }
   ],
   "source": [
    "autoencoder3.fit(usermovieaux_matrix_train, usermovieaux_matrix_train, batch_size=batch_size, epochs=300,\n",
    "                    verbose=0, validation_data=(usermovieaux_matrix_test, usermovieaux_matrix_test), callbacks=early_stop)"
   ]
  },
  {
   "cell_type": "markdown",
   "metadata": {},
   "source": [
    "#### Testing the trained model (without scaled age)"
   ]
  },
  {
   "cell_type": "code",
   "execution_count": 50,
   "metadata": {},
   "outputs": [],
   "source": [
    "decoded_ratings3 = autoencoder3.predict(usermovieaux_matrix_test)"
   ]
  },
  {
   "cell_type": "code",
   "execution_count": 51,
   "metadata": {},
   "outputs": [
    {
     "name": "stdout",
     "output_type": "stream",
     "text": [
      "Using Stacked Autoencoder with User Profile Vector (non-scaled original data): \n",
      "Test loss (RMSE):  1.0792691976498234\n"
     ]
    }
   ],
   "source": [
    "mask_rate_user_profile = usermovieaux_matrix_test[:, :1682] > 0\n",
    "test_loss3 = sqrt(np.mean((usermovieaux_matrix_test[:, :1682][mask_rate_user_profile]\n",
    "                          - decoded_ratings3[:, :1682][mask_rate_user_profile])**2))\n",
    "print(\"Using Stacked Autoencoder with User Profile Vector (non-scaled original data): \")\n",
    "print(\"Test loss (RMSE): \", test_loss3)"
   ]
  },
  {
   "cell_type": "markdown",
   "metadata": {},
   "source": [
    "### Training with age scaled between 0~5"
   ]
  },
  {
   "cell_type": "code",
   "execution_count": 52,
   "metadata": {},
   "outputs": [],
   "source": [
    "input_ratings = Input(shape=(1706,))\n",
    "\n",
    "# 1st encoding layer\n",
    "encoded1 = Dense(encoding_dim1, activation='sigmoid')(input_ratings)\n",
    "encoded1 = Dropout(0.2)(encoded1)\n",
    "\n",
    "# 2nd encoding layer\n",
    "encoded2 = Dense(encoding_dim2, activation='sigmoid')(encoded1)\n",
    "encoded2 = Dropout(0.2)(encoded2)\n",
    "\n",
    "# 1st decoding layer\n",
    "decoded1 = Dense(decoding_dim1, activation='sigmoid')(encoded2)\n",
    "\n",
    "# 2nd decoding layer\n",
    "decoded2 = Dense(1706)(decoded1)\n",
    "\n",
    "# this model maps an input to its reconstruction\n",
    "autoencoder3_s = Model(input_ratings, decoded2)"
   ]
  },
  {
   "cell_type": "code",
   "execution_count": 53,
   "metadata": {},
   "outputs": [],
   "source": [
    "autoencoder3_s.compile(loss=custom_loss_function1, optimizer=optimizer, metrics=custom_loss_function1)"
   ]
  },
  {
   "cell_type": "code",
   "execution_count": 54,
   "metadata": {},
   "outputs": [
    {
     "data": {
      "text/plain": [
       "<tensorflow.python.keras.callbacks.History at 0x21269a4b430>"
      ]
     },
     "execution_count": 54,
     "metadata": {},
     "output_type": "execute_result"
    }
   ],
   "source": [
    "autoencoder3_s.fit(usermovieaux_matrix_train_s, usermovieaux_matrix_train_s, batch_size=batch_size, epochs=300,\n",
    "                    verbose=0, validation_data=(usermovieaux_matrix_test_s, usermovieaux_matrix_test_s), callbacks=early_stop)"
   ]
  },
  {
   "cell_type": "markdown",
   "metadata": {},
   "source": [
    "#### Testing the trained model (with scaled age)"
   ]
  },
  {
   "cell_type": "code",
   "execution_count": 55,
   "metadata": {},
   "outputs": [],
   "source": [
    "decoded_ratings3_s = autoencoder3_s.predict(usermovieaux_matrix_test_s)"
   ]
  },
  {
   "cell_type": "code",
   "execution_count": 56,
   "metadata": {},
   "outputs": [
    {
     "name": "stdout",
     "output_type": "stream",
     "text": [
      "Using Stacked Autoencoder with User Profile Vector (with scaled age): \n",
      "Test loss (RMSE):  1.0797127852614685\n"
     ]
    }
   ],
   "source": [
    "mask_rate_user_profile = usermovieaux_matrix_test_s[:, :1682] > 0\n",
    "test_loss3_s = sqrt(np.mean((usermovieaux_matrix_test_s[:, :1682][mask_rate_user_profile]\n",
    "                          - decoded_ratings3_s[:, :1682][mask_rate_user_profile])**2))\n",
    "print(\"Using Stacked Autoencoder with User Profile Vector (with scaled age): \")\n",
    "print(\"Test loss (RMSE): \", test_loss3_s)"
   ]
  },
  {
   "cell_type": "markdown",
   "metadata": {},
   "source": [
    "<br>"
   ]
  },
  {
   "cell_type": "markdown",
   "metadata": {},
   "source": [
    "<br>"
   ]
  },
  {
   "cell_type": "markdown",
   "metadata": {},
   "source": [
    "# Question 5 - Cold Start Problem\n",
    "Build a **cold-start prediction model** in such a way\n",
    "that it returns top 10 movies (movie ID, movie title, predicted rating score, actual rating\n",
    "score) from the testing dataset. <br><br> Data generation for this cold-start prediction is as follows: <br>\n",
    "Pick five users who show **low sparsity** and fill 50% movie rating scores to zeroes randomly.\n",
    "Reconstruct those scores using the autoencoder model in Q4, and track how much those\n",
    "reconstructed (predicted) scores match the original rating scores. Sort movie recommendation\n",
    "results based on the predicted rating score. Do this for 5 users and report the recommendation\n",
    "results."
   ]
  },
  {
   "cell_type": "code",
   "execution_count": 57,
   "metadata": {},
   "outputs": [
    {
     "name": "stdout",
     "output_type": "stream",
     "text": [
      "5 User IDs with low sparsity:  [13, 276, 405, 450, 655]\n"
     ]
    }
   ],
   "source": [
    "# get user ID of 5 users with the greatest number of ratings in the testing set\n",
    "top5user = movieTest['user_id'].value_counts().head().sort_index().index.tolist()\n",
    "print(\"5 User IDs with low sparsity: \", top5user)"
   ]
  },
  {
   "cell_type": "code",
   "execution_count": 58,
   "metadata": {},
   "outputs": [],
   "source": [
    "top5user_df = pd.DataFrame(columns=['user_id', 'item_id', 'rating'])\n",
    "\n",
    "# lists of index to be used for comparison later\n",
    "rand_idx_list = [] \n",
    "\n",
    "for i in top5user:\n",
    "    rating_set = movieTest[movieTest['user_id'] == i].reset_index()\n",
    "    idx_set = rating_set['index'].tolist()\n",
    "    \n",
    "    # number of actual ratings made\n",
    "    length = len(idx_set)\n",
    "    \n",
    "    # sample half of the indexes randomly\n",
    "    rand_idx = random.sample(idx_set, round(length/2))\n",
    "    rand_idx_list.append(rand_idx)\n",
    "    \n",
    "    # set the ratings of randomly selected index to zero\n",
    "    rating_set.loc[(rating_set['user_id'] == i) & (rating_set['index'].isin(rand_idx)), 'rating'] = 0\n",
    "    rating_set = rating_set.drop(columns=['index','timestamp'])\n",
    "    top5user_df = top5user_df.append(rating_set)"
   ]
  },
  {
   "cell_type": "code",
   "execution_count": 59,
   "metadata": {},
   "outputs": [
    {
     "data": {
      "text/plain": [
       "(935, 4)"
      ]
     },
     "execution_count": 59,
     "metadata": {},
     "output_type": "execute_result"
    }
   ],
   "source": [
    "# adding rank for indexing later\n",
    "top5user_df['user_rank'] = top5user_df['user_id'].rank(method='dense').astype('int64')\n",
    "top5user_df.shape"
   ]
  },
  {
   "cell_type": "code",
   "execution_count": 60,
   "metadata": {},
   "outputs": [],
   "source": [
    "top5_matrix_test = np.zeros((5, num_movies1))\n",
    "\n",
    "for (idx, row) in top5user_df.iterrows():\n",
    "    rank = row[3]\n",
    "    movie_id = row[1]\n",
    "    ratings = row[2]\n",
    "    top5_matrix_test[rank-1, movie_id-1] = ratings"
   ]
  },
  {
   "cell_type": "code",
   "execution_count": 61,
   "metadata": {},
   "outputs": [
    {
     "data": {
      "text/plain": [
       "(5, 24)"
      ]
     },
     "execution_count": 61,
     "metadata": {},
     "output_type": "execute_result"
    }
   ],
   "source": [
    "top5user_profile = user_profile[user_profile['user_id'].isin(top5user)].sort_values(by='user_id')\n",
    "\n",
    "# since the trained model using scaled age does not provide better results, we will use the model trained without the scaled age\n",
    "top5user_profile_v = top5user_profile.drop(columns=['user_id', 'scaled_age']).to_numpy()\n",
    "top5user_profile_v.shape"
   ]
  },
  {
   "cell_type": "code",
   "execution_count": 62,
   "metadata": {},
   "outputs": [
    {
     "data": {
      "text/plain": [
       "(5, 1706)"
      ]
     },
     "execution_count": 62,
     "metadata": {},
     "output_type": "execute_result"
    }
   ],
   "source": [
    "# concatenate with the user profile vector\n",
    "top5_matrix_test = np.concatenate((top5_matrix_test, top5user_profile_v), axis=1)\n",
    "top5_matrix_test.shape"
   ]
  },
  {
   "cell_type": "code",
   "execution_count": 63,
   "metadata": {},
   "outputs": [
    {
     "name": "stdout",
     "output_type": "stream",
     "text": [
      "Prediction using Stacked Autoencoder Model from Question 4: \n",
      "\n",
      "RMSE of User 13 = 1.2380497742549006 \n",
      "\n",
      "RMSE of User 276 = 0.6674012894594479 \n",
      "\n",
      "RMSE of User 405 = 1.9527475641173917 \n",
      "\n",
      "RMSE of User 450 = 0.9913179065843128 \n",
      "\n",
      "RMSE of User 655 = 1.2780234080163857 \n",
      "\n"
     ]
    }
   ],
   "source": [
    "pred = pd.DataFrame(columns=['Movie ID', 'Predicted Rating', 'Actual Rating', 'User ID'])\n",
    "\n",
    "print(\"Prediction using Stacked Autoencoder Model from Question 4: \\n\")\n",
    "\n",
    "for i in range(5):\n",
    "    # create a temporary df to be concatenated later\n",
    "    temp = pd.DataFrame(columns=['Movie ID', 'Predicted Rating', 'Actual Rating'])\n",
    "    temp['Movie ID'] = range(1, 1683)\n",
    "    temp['User ID'] = top5user[i]\n",
    "    temp['Actual Rating'] = top5_matrix_test[i][:1682]\n",
    "    \n",
    "    # predict using autoencoder model trained in Question 4\n",
    "    prediction = autoencoder3.predict(top5_matrix_test[i].reshape(1,1706))\n",
    "    temp['Predicted Rating'] = prediction.reshape(1706,)[:1682]\n",
    "    \n",
    "    \n",
    "    # calculate the RMSE of the predictions\n",
    "    mask_q5 = top5_matrix_test[i][:1682] > 0\n",
    "    loss_q5 = sqrt(np.mean((top5_matrix_test[i][:1682][mask_q5]\n",
    "                          - prediction.reshape(1706,)[:1682][mask_q5])**2))\n",
    "    print(\"RMSE of User\", top5user[i], \"=\", loss_q5, \"\\n\")\n",
    "    \n",
    "    \n",
    "    # remove rows without actual ratings\n",
    "    temp = temp.drop(temp[temp['Actual Rating'] == 0].index)\n",
    "    \n",
    "    # concate to the big df\n",
    "    pred = pd.concat([pred, temp])"
   ]
  },
  {
   "cell_type": "code",
   "execution_count": 64,
   "metadata": {
    "scrolled": true
   },
   "outputs": [
    {
     "name": "stdout",
     "output_type": "stream",
     "text": [
      "Top 10 Movies for User 13  (based on predicted ratings):\n",
      "   Movie ID                   Movie Title  Predicted Rating  Actual Rating\n",
      "35      427  To Kill a Mockingbird (1962)          4.274357            5.0\n",
      "14      313                Titanic (1997)          4.243368            4.0\n",
      "17      316     As Good As It Gets (1997)          4.175982            5.0\n",
      "41      488           Sunset Blvd. (1950)          4.130918            3.0\n",
      "16      315              Apt Pupil (1998)          4.064805            5.0\n",
      "0        14            Postino, Il (1994)          4.027975            4.0\n",
      "50      694             Persuasion (1995)          3.999524            4.0\n",
      "2        28              Apollo 13 (1995)          3.992649            5.0\n",
      "12      269        Full Monty, The (1997)          3.975934            2.0\n",
      "44      614                  Giant (1956)          3.935493            4.0\n",
      "\n",
      "=================================================================================\n",
      "Top 10 Movies for User 276  (based on predicted ratings):\n",
      "    Movie ID                                   Movie Title  Predicted Rating  \\\n",
      "102      169                    Wrong Trousers, The (1993)          4.513286   \n",
      "115      313                                Titanic (1997)          4.243351   \n",
      "128      496                  It's a Wonderful Life (1946)          4.193080   \n",
      "117      316                     As Good As It Gets (1997)          4.175973   \n",
      "156     1019     Die xue shuang xiong (Killer, The) (1989)          4.088362   \n",
      "116      315                              Apt Pupil (1998)          4.064792   \n",
      "100      124                              Lone Star (1996)          4.021084   \n",
      "136      652  Rosencrantz and Guildenstern Are Dead (1990)          3.988293   \n",
      "110      269                        Full Monty, The (1997)          3.975924   \n",
      "103      196                     Dead Poets Society (1989)          3.889591   \n",
      "\n",
      "     Actual Rating  \n",
      "102            5.0  \n",
      "115            5.0  \n",
      "128            4.0  \n",
      "117            4.0  \n",
      "156            5.0  \n",
      "116            4.0  \n",
      "100            5.0  \n",
      "136            4.0  \n",
      "110            4.0  \n",
      "103            4.0  \n",
      "\n",
      "=================================================================================\n",
      "Top 10 Movies for User 405  (based on predicted ratings):\n",
      "    Movie ID                       Movie Title  Predicted Rating  \\\n",
      "221      657  Manchurian Candidate, The (1962)          4.270450   \n",
      "175       45        Eat Drink Man Woman (1994)          4.150990   \n",
      "177       60         Three Colors: Blue (1993)          4.140928   \n",
      "183      170            Cinema Paradiso (1988)          4.134756   \n",
      "185      213        Room with a View, A (1986)          4.044351   \n",
      "176       59          Three Colors: Red (1994)          4.034376   \n",
      "178       61        Three Colors: White (1994)          4.021996   \n",
      "220      653              Touch of Evil (1958)          4.012858   \n",
      "184      171               Delicatessen (1991)          4.009004   \n",
      "204      512            Wings of Desire (1987)          3.971062   \n",
      "\n",
      "     Actual Rating  \n",
      "221            1.0  \n",
      "175            1.0  \n",
      "177            1.0  \n",
      "183            1.0  \n",
      "185            2.0  \n",
      "176            1.0  \n",
      "178            1.0  \n",
      "220            1.0  \n",
      "184            1.0  \n",
      "204            1.0  \n",
      "\n",
      "=================================================================================\n",
      "Top 10 Movies for User 450  (based on predicted ratings):\n",
      "    Movie ID                                        Movie Title  \\\n",
      "291      114  Wallace & Gromit: The Best of Aardman Animatio...   \n",
      "335      657                   Manchurian Candidate, The (1962)   \n",
      "305      313                                     Titanic (1997)   \n",
      "318      474  Dr. Strangelove or: How I Learned to Stop Worr...   \n",
      "352      923                       Raise the Red Lantern (1991)   \n",
      "320      478                     Philadelphia Story, The (1940)   \n",
      "306      316                          As Good As It Gets (1997)   \n",
      "299      272                           Good Will Hunting (1997)   \n",
      "286       60                          Three Colors: Blue (1993)   \n",
      "296      170                             Cinema Paradiso (1988)   \n",
      "\n",
      "     Predicted Rating  Actual Rating  \n",
      "291          4.366292            5.0  \n",
      "335          4.273365            4.0  \n",
      "305          4.243373            5.0  \n",
      "318          4.234695            5.0  \n",
      "352          4.233554            5.0  \n",
      "320          4.176138            5.0  \n",
      "306          4.175987            4.0  \n",
      "299          4.161744            5.0  \n",
      "286          4.143801            3.0  \n",
      "296          4.137659            5.0  \n",
      "\n",
      "=================================================================================\n",
      "Top 10 Movies for User 655  (based on predicted ratings):\n",
      "    Movie ID                                        Movie Title  \\\n",
      "404      483                                  Casablanca (1942)   \n",
      "402      480                          North by Northwest (1959)   \n",
      "401      474  Dr. Strangelove or: How I Learned to Stop Worr...   \n",
      "435      923                       Raise the Red Lantern (1991)   \n",
      "364       22                                  Braveheart (1995)   \n",
      "367       45                         Eat Drink Man Woman (1994)   \n",
      "377      251                             Shall We Dance? (1996)   \n",
      "447     1142                          When We Were Kings (1996)   \n",
      "408      525                              Big Sleep, The (1946)   \n",
      "413      647                                         Ran (1985)   \n",
      "\n",
      "     Predicted Rating  Actual Rating  \n",
      "404          4.459280            4.0  \n",
      "402          4.256777            4.0  \n",
      "401          4.234693            3.0  \n",
      "435          4.233548            3.0  \n",
      "364          4.203226            2.0  \n",
      "367          4.153856            3.0  \n",
      "377          4.149259            3.0  \n",
      "447          4.140095            2.0  \n",
      "408          4.137613            2.0  \n",
      "413          4.099614            3.0  \n",
      "\n",
      "=================================================================================\n"
     ]
    }
   ],
   "source": [
    "# merge to get movie title\n",
    "pred_info = pd.merge(pred, df_movieinfo, left_on='Movie ID', right_on='item_id', how='left')\n",
    "pred_info = pred_info[['Movie ID', 'movie_title', 'Predicted Rating', 'Actual Rating', 'User ID']]\n",
    "pred_info = pred_info.rename(columns={\"movie_title\": \"Movie Title\"})\n",
    "pred_info\n",
    "\n",
    "for i in top5user:\n",
    "    temp1 = pred_info[pred_info['User ID'] == i].sort_values(by='Predicted Rating', ascending=False).head(10)\n",
    "    print(\"Top 10 Movies for User\", i, \" (based on predicted ratings):\")\n",
    "    print(temp1.drop(columns='User ID'))\n",
    "    print(\"\\n=================================================================================\")"
   ]
  },
  {
   "cell_type": "code",
   "execution_count": 106,
   "metadata": {},
   "outputs": [
    {
     "data": {
      "text/plain": [
       "<matplotlib.axes._subplots.AxesSubplot at 0x2127a102310>"
      ]
     },
     "execution_count": 106,
     "metadata": {},
     "output_type": "execute_result"
    },
    {
     "data": {
      "image/png": "[encoded data removed]",
      "text/plain": [
       "<Figure size 432x288 with 1 Axes>"
      ]
     },
     "metadata": {
      "needs_background": "light"
     },
     "output_type": "display_data"
    }
   ],
   "source": [
    "# prediction for user ID 405 is really bad!\n",
    "# checking the ratings of User ID 405 in test set\n",
    "movieTest.loc[movieTest['user_id']==405, 'rating'].hist()"
   ]
  },
  {
   "cell_type": "code",
   "execution_count": 109,
   "metadata": {},
   "outputs": [
    {
     "data": {
      "text/plain": [
       "1    173\n",
       "2     28\n",
       "3     10\n",
       "4      3\n",
       "5      7\n",
       "Name: rating, dtype: int64"
      ]
     },
     "execution_count": 109,
     "metadata": {},
     "output_type": "execute_result"
    }
   ],
   "source": [
    "movieTest.loc[movieTest['user_id']==405, 'rating'].value_counts().sort_index()"
   ]
  },
  {
   "cell_type": "code",
   "execution_count": 107,
   "metadata": {},
   "outputs": [
    {
     "data": {
      "text/plain": [
       "<matplotlib.axes._subplots.AxesSubplot at 0x2127a0c9250>"
      ]
     },
     "execution_count": 107,
     "metadata": {},
     "output_type": "execute_result"
    },
    {
     "data": {
      "image/png": "[encoded data removed]",
      "text/plain": [
       "<Figure size 432x288 with 1 Axes>"
      ]
     },
     "metadata": {
      "needs_background": "light"
     },
     "output_type": "display_data"
    }
   ],
   "source": [
    "# prediction for user ID 276 is quite good!\n",
    "# checking the ratings of User ID 276 in test set\n",
    "movieTest.loc[movieTest['user_id']==276, 'rating'].hist()"
   ]
  },
  {
   "cell_type": "code",
   "execution_count": 110,
   "metadata": {},
   "outputs": [
    {
     "data": {
      "text/plain": [
       "1    10\n",
       "2    24\n",
       "3    43\n",
       "4    61\n",
       "5    17\n",
       "Name: rating, dtype: int64"
      ]
     },
     "execution_count": 110,
     "metadata": {},
     "output_type": "execute_result"
    }
   ],
   "source": [
    "movieTest.loc[movieTest['user_id']==276, 'rating'].value_counts().sort_index()"
   ]
  },
  {
   "cell_type": "code",
   "execution_count": 146,
   "metadata": {},
   "outputs": [],
   "source": [
    "listt = movieTest.loc[rand_idx_list[0], 'item_id'].tolist()"
   ]
  },
  {
   "cell_type": "code",
   "execution_count": 150,
   "metadata": {},
   "outputs": [
    {
     "data": {
      "text/plain": [
       "array([ 3.9137456 ,  3.2295823 ,  3.1250608 , ...,  0.00834726,\n",
       "       -0.26461545, -0.03886619], dtype=float32)"
      ]
     },
     "execution_count": 150,
     "metadata": {},
     "output_type": "execute_result"
    }
   ],
   "source": [
    "# rand_idx_list[0]\n",
    "autoencoder3.predict(top5_matrix_test[0].reshape(1,1706)).flatten()"
   ]
  },
  {
   "cell_type": "code",
   "execution_count": null,
   "metadata": {},
   "outputs": [],
   "source": []
  }
 ],
 "metadata": {
  "kernelspec": {
   "display_name": "Python 3",
   "language": "python",
   "name": "python3"
  },
  "language_info": {
   "codemirror_mode": {
    "name": "ipython",
    "version": 3
   },
   "file_extension": ".py",
   "mimetype": "text/x-python",
   "name": "python",
   "nbconvert_exporter": "python",
   "pygments_lexer": "ipython3",
   "version": "3.8.3"
  }
 },
 "nbformat": 4,
 "nbformat_minor": 4
}
